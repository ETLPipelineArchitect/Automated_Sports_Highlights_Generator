{
    "cells": [
        {
            "cell_type": "markdown",
            "metadata": {},
            "source": [
                "# Highlights Visualization\n",
                "Visualizing the generated highlights from sports videos."
            ]
        },
        {
            "cell_type": "code",
            "execution_count": 1,
            "metadata": {},
            "outputs": [],
            "source": [
                "import pandas as pd\n",
                "import matplotlib.pyplot as plt\n",
                "\n",
                "# Load highlights data (Assuming data is downloaded locally)\n",
                "highlights_df = pd.read_csv('data/highlights.csv')\n",
                "\n",
                "# Plot highlights occurrences\n",
                "plt.figure(figsize=(12, 6))\n",
                "plt.hist(highlights_df['timestamp'], bins=50)\n",
                "plt.title('Highlights Occurrences Over Time')\n",
                "plt.xlabel('Time')\n",
                "plt.ylabel('Number of Highlights')\n",
                "plt.show()\n"
            ]
        }
    ],
    "metadata": {
        "kernelspec": {
            "display_name": "Python 3",
            "language": "python",
            "name": "python3"
        },
        "language_info": {
            "name": "python",
            "version": "3.8.5",
            "mimetype": "text/x-python",
            "codemirror_mode": {
                "name": "ipython",
                "version": 3
            },
            "pygments_lexer": "ipython3",
            "nbconvert_exporter": "python",
            "file_extension": ".py"
        }
    },
    "nbformat": 4,
    "nbformat_minor": 5
}